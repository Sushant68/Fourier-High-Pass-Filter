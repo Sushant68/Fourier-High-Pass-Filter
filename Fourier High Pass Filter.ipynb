{
 "cells": [
  {
   "cell_type": "code",
   "execution_count": null,
   "id": "9d6cb0f7-1358-41ee-b0d8-6ea2f95476ce",
   "metadata": {},
   "outputs": [],
   "source": [
    "import cv2\n",
    "from matplotlib import pyplot as plt\n",
    "import numpy as np"
   ]
  },
  {
   "cell_type": "markdown",
   "id": "d1d4cf18-cfda-4c20-b9d3-e8092e336930",
   "metadata": {},
   "source": [
    "## Generate a 2-D sine wave"
   ]
  },
  {
   "cell_type": "code",
   "execution_count": null,
   "id": "1449b819-94ed-452a-8daa-7c039c1837b7",
   "metadata": {},
   "outputs": [],
   "source": [
    "x= np.arange(256)\n",
    "x"
   ]
  },
  {
   "cell_type": "code",
   "execution_count": null,
   "id": "db8a3c3f-d44e-4a3b-83e5-1f7751b2c4f9",
   "metadata": {},
   "outputs": [],
   "source": [
    "y= np.sin(2*np.pi*x/60)\n",
    "y += max(y)"
   ]
  },
  {
   "cell_type": "code",
   "execution_count": null,
   "id": "77a295d7-9081-4999-ad4b-ec6cfb756465",
   "metadata": {},
   "outputs": [],
   "source": [
    "plt.plot( x, y)"
   ]
  },
  {
   "cell_type": "code",
   "execution_count": null,
   "id": "95390149-28bb-4767-a49a-f0fa816d4567",
   "metadata": {},
   "outputs": [],
   "source": [
    "image= np.array([[y[j]*127 for j in range(256)] for i in range(256)])"
   ]
  },
  {
   "cell_type": "code",
   "execution_count": null,
   "id": "e7eecce1-63ef-4aa1-b4d2-2c86968d1304",
   "metadata": {},
   "outputs": [],
   "source": [
    "plt.imshow(image)"
   ]
  },
  {
   "cell_type": "code",
   "execution_count": null,
   "id": "867f9009-d548-46f0-b200-077e363981fb",
   "metadata": {},
   "outputs": [],
   "source": [
    "dft= cv2.dft(np.float32(image), flags= cv2.DFT_COMPLEX_OUTPUT)"
   ]
  },
  {
   "cell_type": "code",
   "execution_count": null,
   "id": "3b32b609-59d0-482b-bad1-817036155561",
   "metadata": {},
   "outputs": [],
   "source": [
    "dft.shape"
   ]
  },
  {
   "cell_type": "code",
   "execution_count": null,
   "id": "ca7f5914-4483-4a02-a334-8e598b413404",
   "metadata": {},
   "outputs": [],
   "source": [
    "dft_shift= np.fft.fftshift(dft)"
   ]
  },
  {
   "cell_type": "code",
   "execution_count": null,
   "id": "e568334a-03fd-4ff7-97f1-4db040e79007",
   "metadata": {},
   "outputs": [],
   "source": [
    "magnitude_spectrum= 20*np.log((cv2.magnitude(dft_shift[:, :, 0], dft_shift[:, :, 1]))+1)"
   ]
  },
  {
   "cell_type": "code",
   "execution_count": null,
   "id": "b6bda718-ad97-4c9c-b47b-892850061418",
   "metadata": {},
   "outputs": [],
   "source": [
    "plt.imshow(magnitude_spectrum)"
   ]
  },
  {
   "cell_type": "markdown",
   "id": "2b641f04-50f2-4524-9bba-4396d6a9d14c",
   "metadata": {},
   "source": [
    "# Importing an Image"
   ]
  },
  {
   "cell_type": "code",
   "execution_count": null,
   "id": "8b556304-279f-4c63-8381-f03bf3917e12",
   "metadata": {},
   "outputs": [],
   "source": [
    "img= cv2.imread(\"flower.jpg\")\n",
    "img= cv2.cvtColor(img, cv2.COLOR_BGR2RGB)\n",
    "img= cv2.cvtColor(img, cv2.COLOR_RGB2GRAY)\n",
    "plt.imshow(img)"
   ]
  },
  {
   "cell_type": "code",
   "execution_count": null,
   "id": "7a691853-68f6-4df9-9d0f-9837ce598863",
   "metadata": {},
   "outputs": [],
   "source": [
    "img.dtype"
   ]
  },
  {
   "cell_type": "code",
   "execution_count": null,
   "id": "a964b495-e2d7-4ab0-a158-2ecc7d8c31c0",
   "metadata": {},
   "outputs": [],
   "source": [
    "#img_gr= \n",
    "img_float32= img.astype(np.float32)"
   ]
  },
  {
   "cell_type": "code",
   "execution_count": null,
   "id": "b859c44d-fee7-41db-9528-0b04b2ad747b",
   "metadata": {},
   "outputs": [],
   "source": [
    "dft= cv2.dft(img_float32, flags= cv2.DFT_COMPLEX_OUTPUT)\n",
    "dft_shift= np.fft.fftshift(dft)\n",
    "magnitude_spectrum= 20*np.log((cv2.magnitude(dft_shift[:, :, 0], dft_shift[:, :, 1]))+1)\n",
    "plt.imshow(magnitude_spectrum)"
   ]
  },
  {
   "cell_type": "markdown",
   "id": "97e9c472-25be-4107-a0be-843ed6d90537",
   "metadata": {},
   "source": [
    "# bse Image"
   ]
  },
  {
   "cell_type": "code",
   "execution_count": null,
   "id": "9af4a835-9754-4ff4-be6c-dd995e180d69",
   "metadata": {},
   "outputs": [],
   "source": [
    "imgbse= cv2.imread(\"bse.jpg\")\n",
    "#imgbse= cv2.cvtColor(imgbse, cv2.COLOR_BGR2RGB)\n",
    "bse_gr= cv2.cvtColor(imgbse, cv2.COLOR_BGR2GRAY)\n",
    "plt.imshow(bse_gr, cmap= 'gray')"
   ]
  },
  {
   "cell_type": "code",
   "execution_count": null,
   "id": "6a6da2bf-afab-4a28-aa4f-a23cf6445b64",
   "metadata": {},
   "outputs": [],
   "source": [
    "bse_gr.shape"
   ]
  },
  {
   "cell_type": "code",
   "execution_count": null,
   "id": "10e546dd-5f3d-48e5-abd9-a224956df51e",
   "metadata": {},
   "outputs": [],
   "source": [
    "# Discrete Fourier Transform of the Image\n",
    "dft= cv2.dft(np.float32(bse_gr), flags= cv2.DFT_COMPLEX_OUTPUT)\n",
    "# Below we shift low frequencies to the center and the high frequencies to the corners\n",
    "dft_shift= np.fft.fftshift(dft) \n",
    "magnitude_spectrum= 20*np.log((cv2.magnitude(dft_shift[:,:,0], dft_shift[:,:,1])) + 1)\n",
    "plt.imshow(magnitude_spectrum, cmap= 'gray')"
   ]
  },
  {
   "cell_type": "markdown",
   "id": "e8f617c8-a30a-48f0-99cd-3e6e8458721e",
   "metadata": {},
   "source": [
    "# High Pass Filter Mask"
   ]
  },
  {
   "cell_type": "code",
   "execution_count": null,
   "id": "50c7f970-d042-4417-a666-7bd8331ab559",
   "metadata": {},
   "outputs": [],
   "source": [
    "rows, cols= bse_gr.shape\n",
    "crow, ccol= int(rows/2), int(cols/2)\n",
    "mask= np.ones((rows, cols, 2), np.uint8)\n",
    "r= 40\n",
    "center= [crow, ccol]\n",
    "x, y= np.ogrid[:rows, :cols]\n",
    "mask_area= (x - center[0])**2 + (y - center[1])**2 <= r*r\n",
    "mask[mask_area] = 0"
   ]
  },
  {
   "cell_type": "markdown",
   "id": "ad8174f5-ce79-4791-a020-8a08cdd0d071",
   "metadata": {},
   "source": [
    "### Applying HPF to DFT"
   ]
  },
  {
   "cell_type": "code",
   "execution_count": null,
   "id": "f1aab4a6-567c-4e28-a6f3-1c0a790ed41c",
   "metadata": {},
   "outputs": [],
   "source": [
    "dft_shift_mask= dft_shift*mask"
   ]
  },
  {
   "cell_type": "code",
   "execution_count": null,
   "id": "a674d9ba-0cf5-434e-9257-0ef3599b934e",
   "metadata": {},
   "outputs": [],
   "source": [
    "dft_shift_mask_mag= 2000*np.log(cv2.magnitude(dft_shift_mask[:,:,0], dft_shift_mask[:,:,1]) + 1)\n",
    "plt.imshow(dft_shift_mask_mag, cmap= 'gray')"
   ]
  },
  {
   "cell_type": "markdown",
   "id": "0472bde0-1ad9-47ba-9b71-14dcd9b8149d",
   "metadata": {},
   "source": [
    "## Inverse Fourier Transform"
   ]
  },
  {
   "cell_type": "markdown",
   "id": "688fede9-6b48-4cf7-9aaf-45e0d6ecad5c",
   "metadata": {},
   "source": [
    "#### Shifting back the coordinates to original position where they were originally: \n",
    "#### High frequencies towards the center and low frequencies away from the center.\n",
    "#### np.fft.ifftshift()"
   ]
  },
  {
   "cell_type": "code",
   "execution_count": null,
   "id": "7190c08a-e2e2-49e3-86de-bf0066d9e225",
   "metadata": {},
   "outputs": [],
   "source": [
    "f_inv_shift= np.fft.ifftshift(dft_shift_mask)"
   ]
  },
  {
   "cell_type": "code",
   "execution_count": null,
   "id": "a19fef09-bb44-49ca-8c39-a796e8cc2342",
   "metadata": {},
   "outputs": [],
   "source": [
    "# Applying inverse DFT\n",
    "img_ift_back= cv2.idft(f_inv_shift)\n",
    "img_ift_back_magnitude= cv2.magnitude(img_ift_back[:,:,0], img_ift_back[:, :, 1])"
   ]
  },
  {
   "cell_type": "markdown",
   "id": "965cae2f-0a12-443e-b1fd-f0f665cfdaaa",
   "metadata": {},
   "source": [
    "## Plotting the Above Transformations:"
   ]
  },
  {
   "cell_type": "code",
   "execution_count": null,
   "id": "94c92539-3a9d-4c69-aab1-1dff021f78f9",
   "metadata": {},
   "outputs": [],
   "source": [
    "fig= plt.figure(figsize=(12, 12))\n",
    "\n",
    "ax1= fig.add_subplot(2, 2, 1)\n",
    "ax1.imshow(bse_gr , cmap= 'gray')\n",
    "ax1.title.set_text('Input Image')\n",
    "\n",
    "ax2= fig.add_subplot(2, 2, 2)\n",
    "ax2.imshow(magnitude_spectrum, cmap= 'gray')\n",
    "ax2.title.set_text('FFT of Input Image')\n",
    "\n",
    "ax3= fig.add_subplot(2, 2, 3)\n",
    "ax3.imshow(dft_shift_mask_mag , cmap= 'gray')\n",
    "ax3.title.set_text('Masking of Low Frequencies')\n",
    "\n",
    "ax4= fig.add_subplot(2, 2, 4)\n",
    "ax4.imshow(img_ift_back_magnitude , cmap= 'gray')\n",
    "ax4.title.set_text('Inverse DFT of Masked Image')\n",
    "\n",
    "plt.tight_layout()"
   ]
  },
  {
   "cell_type": "code",
   "execution_count": null,
   "id": "d3ae509a-6d3b-4f3d-94e5-72991df46033",
   "metadata": {},
   "outputs": [],
   "source": []
  },
  {
   "cell_type": "code",
   "execution_count": null,
   "id": "0ee55335-0a41-45cf-8927-0fe9cc1b2a90",
   "metadata": {},
   "outputs": [],
   "source": []
  },
  {
   "cell_type": "code",
   "execution_count": null,
   "id": "39b44bc8-2028-4299-8699-365a218bd645",
   "metadata": {},
   "outputs": [],
   "source": []
  },
  {
   "cell_type": "code",
   "execution_count": null,
   "id": "ac446855-0015-45dd-9fbf-c99dad7621ac",
   "metadata": {},
   "outputs": [],
   "source": []
  },
  {
   "cell_type": "code",
   "execution_count": null,
   "id": "ca84a2ad-ec2f-4c4a-b111-798c13180e2f",
   "metadata": {},
   "outputs": [],
   "source": []
  },
  {
   "cell_type": "code",
   "execution_count": null,
   "id": "d52edc23-3d77-4b86-afed-ebf89f578c1f",
   "metadata": {},
   "outputs": [],
   "source": []
  },
  {
   "cell_type": "code",
   "execution_count": null,
   "id": "cd2520cd-4201-4202-8b9c-bcfe36215bf0",
   "metadata": {},
   "outputs": [],
   "source": []
  },
  {
   "cell_type": "code",
   "execution_count": null,
   "id": "190face2-a53f-4ed7-8b6c-0fd5e0368716",
   "metadata": {},
   "outputs": [],
   "source": []
  },
  {
   "cell_type": "code",
   "execution_count": null,
   "id": "e4b41e9b-8eef-48df-b852-729008aba998",
   "metadata": {},
   "outputs": [],
   "source": []
  },
  {
   "cell_type": "code",
   "execution_count": null,
   "id": "90403518-e9e5-4874-855d-6eb868ebaaf2",
   "metadata": {},
   "outputs": [],
   "source": []
  },
  {
   "cell_type": "code",
   "execution_count": null,
   "id": "fba0f53e-53fc-406c-be0f-38eb1825ff10",
   "metadata": {},
   "outputs": [],
   "source": []
  },
  {
   "cell_type": "code",
   "execution_count": null,
   "id": "0f7054e0-90f7-4624-9d27-ffea1eb510fd",
   "metadata": {},
   "outputs": [],
   "source": []
  },
  {
   "cell_type": "code",
   "execution_count": null,
   "id": "a1e34355-ee48-4b09-85b4-ce4832185003",
   "metadata": {},
   "outputs": [],
   "source": []
  },
  {
   "cell_type": "code",
   "execution_count": null,
   "id": "b6f43a3a-bbc7-4710-993d-a989c524d0f9",
   "metadata": {},
   "outputs": [],
   "source": []
  },
  {
   "cell_type": "code",
   "execution_count": null,
   "id": "f3ee1249-f15f-4d46-a42e-a5285e0f1fde",
   "metadata": {},
   "outputs": [],
   "source": []
  },
  {
   "cell_type": "code",
   "execution_count": null,
   "id": "35ece39d-7771-4a93-a54b-abcf6cc6f864",
   "metadata": {},
   "outputs": [],
   "source": []
  },
  {
   "cell_type": "code",
   "execution_count": null,
   "id": "e7466e3f-6a0d-48fd-8a15-f4404c78a33e",
   "metadata": {},
   "outputs": [],
   "source": []
  },
  {
   "cell_type": "code",
   "execution_count": null,
   "id": "9319d269-5e52-4ba3-a271-07cd70e18644",
   "metadata": {},
   "outputs": [],
   "source": []
  },
  {
   "cell_type": "code",
   "execution_count": null,
   "id": "863ca687-25e7-4d81-8696-ff5627030c97",
   "metadata": {},
   "outputs": [],
   "source": []
  },
  {
   "cell_type": "code",
   "execution_count": null,
   "id": "68fb2a43-19e9-4446-8d36-5afa081f50d6",
   "metadata": {},
   "outputs": [],
   "source": []
  },
  {
   "cell_type": "code",
   "execution_count": null,
   "id": "6c14c144-49de-4e8c-b172-f3896607e032",
   "metadata": {},
   "outputs": [],
   "source": []
  },
  {
   "cell_type": "code",
   "execution_count": null,
   "id": "58f6f7ff-fa1b-4cfe-841f-85135ee7dfc3",
   "metadata": {},
   "outputs": [],
   "source": []
  },
  {
   "cell_type": "code",
   "execution_count": null,
   "id": "680d9971-fff9-449b-a711-f0bcee2c15bc",
   "metadata": {},
   "outputs": [],
   "source": []
  },
  {
   "cell_type": "code",
   "execution_count": null,
   "id": "ea3a5506-9522-4913-ae69-b8de441cbf79",
   "metadata": {},
   "outputs": [],
   "source": []
  },
  {
   "cell_type": "code",
   "execution_count": null,
   "id": "06c37544-21ac-4a00-85a0-ed7e22e3497b",
   "metadata": {},
   "outputs": [],
   "source": []
  },
  {
   "cell_type": "code",
   "execution_count": null,
   "id": "cad68378-e913-4642-8800-fe7e166daae8",
   "metadata": {},
   "outputs": [],
   "source": []
  },
  {
   "cell_type": "code",
   "execution_count": null,
   "id": "72c09b26-b068-4563-8750-2473099ec4ca",
   "metadata": {},
   "outputs": [],
   "source": []
  },
  {
   "cell_type": "code",
   "execution_count": null,
   "id": "5245a012-8f54-4f1f-85fc-1d4f97774a52",
   "metadata": {},
   "outputs": [],
   "source": []
  },
  {
   "cell_type": "code",
   "execution_count": null,
   "id": "24bb7d06-11b7-4ffb-af21-0f0040cbf2ce",
   "metadata": {},
   "outputs": [],
   "source": []
  },
  {
   "cell_type": "code",
   "execution_count": null,
   "id": "c0890fa2-7c93-4539-9c45-41be297efc3f",
   "metadata": {},
   "outputs": [],
   "source": []
  },
  {
   "cell_type": "code",
   "execution_count": null,
   "id": "07a20c4b-9064-4e6e-b85a-31d518f6211c",
   "metadata": {},
   "outputs": [],
   "source": []
  },
  {
   "cell_type": "code",
   "execution_count": null,
   "id": "698b7f2e-bfd8-49c7-a41e-851647abeb79",
   "metadata": {},
   "outputs": [],
   "source": []
  },
  {
   "cell_type": "code",
   "execution_count": null,
   "id": "2dac19a3-fdb6-409f-af05-e6d69c68a288",
   "metadata": {},
   "outputs": [],
   "source": []
  },
  {
   "cell_type": "code",
   "execution_count": null,
   "id": "cd0a763f-a088-4bd6-a2e6-d4cfb2e9d6ce",
   "metadata": {},
   "outputs": [],
   "source": []
  },
  {
   "cell_type": "code",
   "execution_count": null,
   "id": "bf9a2dba-0dae-4acf-a197-2a5688eb7a1a",
   "metadata": {},
   "outputs": [],
   "source": []
  },
  {
   "cell_type": "code",
   "execution_count": null,
   "id": "fdcb732d-d63c-4f39-9119-7fa8f7ec8fca",
   "metadata": {},
   "outputs": [],
   "source": []
  }
 ],
 "metadata": {
  "kernelspec": {
   "display_name": "Python 3 (ipykernel)",
   "language": "python",
   "name": "python3"
  },
  "language_info": {
   "codemirror_mode": {
    "name": "ipython",
    "version": 3
   },
   "file_extension": ".py",
   "mimetype": "text/x-python",
   "name": "python",
   "nbconvert_exporter": "python",
   "pygments_lexer": "ipython3",
   "version": "3.11.5"
  }
 },
 "nbformat": 4,
 "nbformat_minor": 5
}
